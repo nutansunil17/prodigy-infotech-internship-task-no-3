{
 "cells": [
  {
   "cell_type": "code",
   "execution_count": null,
   "id": "d9c2e73d",
   "metadata": {},
   "outputs": [],
   "source": [
    "pip install opencv-python scikit-learn matplotlib\n"
   ]
  },
  {
   "cell_type": "code",
   "execution_count": null,
   "id": "5c90cc0b",
   "metadata": {},
   "outputs": [],
   "source": [
    "# Step 1: Import necessary libraries\n",
    "import os\n",
    "import cv2\n",
    "import numpy as np\n",
    "from sklearn.model_selection import train_test_split\n",
    "from sklearn.preprocessing import LabelEncoder\n",
    "from sklearn.svm import SVC\n",
    "from sklearn.metrics import classification_report, accuracy_score\n",
    "import matplotlib.pyplot as plt\n",
    "\n",
    "# Step 2: Load and preprocess images\n",
    "def load_images(folder, img_size=(64, 64)):\n",
    "    images = []\n",
    "    labels = []\n",
    "    \n",
    "    for subfolder in os.listdir(folder):\n",
    "        label = subfolder  # Cat or Dog\n",
    "        subfolder_path = os.path.join(folder, subfolder)\n",
    "        \n",
    "        for img_file in os.listdir(subfolder_path):\n",
    "            img_path = os.path.join(subfolder_path, img_file)\n",
    "            img = cv2.imread(img_path)\n",
    "            img = cv2.resize(img, img_size)  # Resize to a fixed size\n",
    "            images.append(img)\n",
    "            labels.append(label)\n",
    "    \n",
    "    return np.array(images), np.array(labels)\n",
    "\n",
    "# Assuming the dataset is in 'cats_and_dogs' folder with subfolders 'Cat' and 'Dog'\n",
    "folder_path = 'path/to/dataset/cats_and_dogs'\n",
    "images, labels = load_images(folder_path)\n",
    "\n",
    "# Step 3: Preprocess the data\n",
    "# Normalize the pixel values (optional but common)\n",
    "images = images.astype('float32') / 255.0\n",
    "\n",
    "# Convert images to a 1D vector\n",
    "n_samples, img_height, img_width, n_channels = images.shape\n",
    "images_reshaped = images.reshape(n_samples, img_height * img_width * n_channels)\n",
    "\n",
    "# Encode the labels\n",
    "label_encoder = LabelEncoder()\n",
    "labels_encoded = label_encoder.fit_transform(labels)\n",
    "\n",
    "# Step 4: Split into train and test sets\n",
    "X_train, X_test, y_train, y_test = train_test_split(images_reshaped, labels_encoded, test_size=0.2, random_state=42)\n",
    "\n",
    "# Step 5: Train an SVM classifier\n",
    "svm_model = SVC(kernel='linear')  # You can also try other kernels like 'rbf'\n",
    "svm_model.fit(X_train, y_train)\n",
    "\n",
    "# Step 6: Make predictions and evaluate the model\n",
    "y_pred = svm_model.predict(X_test)\n",
    "\n",
    "# Evaluate the accuracy and performance\n",
    "accuracy = accuracy_score(y_test, y_pred)\n",
    "print(f\"Accuracy: {accuracy:.2f}\")\n",
    "\n",
    "# Display classification report\n",
    "print(classification_report(y_test, y_pred, target_names=label_encoder.classes_))\n",
    "\n",
    "# Optional: Plot a few predictions\n",
    "def plot_sample_predictions(images, y_test\n"
   ]
  },
  {
   "cell_type": "code",
   "execution_count": null,
   "id": "5efd6a81",
   "metadata": {},
   "outputs": [],
   "source": []
  },
  {
   "cell_type": "code",
   "execution_count": null,
   "id": "6a7d25db",
   "metadata": {},
   "outputs": [],
   "source": []
  },
  {
   "cell_type": "code",
   "execution_count": null,
   "id": "79ae04fc",
   "metadata": {},
   "outputs": [],
   "source": []
  }
 ],
 "metadata": {
  "kernelspec": {
   "display_name": "Python 3",
   "language": "python",
   "name": "python3"
  },
  "language_info": {
   "codemirror_mode": {
    "name": "ipython",
    "version": 3
   },
   "file_extension": ".py",
   "mimetype": "text/x-python",
   "name": "python",
   "nbconvert_exporter": "python",
   "pygments_lexer": "ipython3",
   "version": "3.8.8"
  }
 },
 "nbformat": 4,
 "nbformat_minor": 5
}
